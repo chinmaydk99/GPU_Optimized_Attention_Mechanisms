{
  "nbformat": 4,
  "nbformat_minor": 0,
  "metadata": {
    "colab": {
      "provenance": [],
      "machine_shape": "hm",
      "gpuType": "L4"
    },
    "kernelspec": {
      "name": "python3",
      "display_name": "Python 3"
    },
    "language_info": {
      "name": "python"
    },
    "accelerator": "GPU"
  },
  "cells": [
    {
      "cell_type": "code",
      "execution_count": 1,
      "metadata": {
        "id": "Nsu4m5nStIiQ"
      },
      "outputs": [],
      "source": [
        "import torch\n",
        "import torch.nn as nn\n",
        "import torch.nn.functional as F\n",
        "import math\n",
        "import time\n",
        "import matplotlib.pyplot as plt\n",
        "import triton\n",
        "import triton.language as tl\n",
        "import triton.testing"
      ]
    },
    {
      "cell_type": "code",
      "source": [
        "class TorchAttention(nn.Module):\n",
        "    def __init__(self, d_model, num_heads, dropout = 0.1):\n",
        "        super().__init__()\n",
        "        assert d_model % num_heads == 0, \"d_model must be divisible by num_heads\"\n",
        "\n",
        "        self.num_heads = num_heads\n",
        "        self.d_model = d_model\n",
        "        self.head_dim = d_model // num_heads\n",
        "\n",
        "        # Initialise Projection matrices\n",
        "        self.W_q = nn.Linear(d_model, d_model, bias = False)\n",
        "        self.W_k = nn.Linear(d_model, d_model, bias = False)\n",
        "        self.W_v = nn.Linear(d_model, d_model, bias = False)\n",
        "\n",
        "        # Output Projection\n",
        "        self.W_o = nn.Linear(d_model, d_model, bias = False)\n",
        "\n",
        "        self.dropout = nn.Dropout(dropout)\n",
        "\n",
        "    def forward(self, x, mask = None):\n",
        "        # x is of shape [batch_size, seq_len, d_model]\n",
        "        batch_size, seq_len, _ = x.shape\n",
        "\n",
        "        # Linear projections\n",
        "        q = self.W_q(x) # [batch_size, seq_len, d_model]\n",
        "        k = self.W_k(x) # [batch_size, seq_len, d_model]\n",
        "        v = self.W_v(x) # [batch_size, seq_len, d_model]\n",
        "\n",
        "        # Reshaping for multi-head attention\n",
        "        # [batch_size, seq_len, d_model] -> [batch_size, seq_len, num_heads, head_dim]\n",
        "        q = q.view(batch_size, seq_len, self.num_heads, self.head_dim)\n",
        "        k = k.view(batch_size, seq_len, self.num_heads, self.head_dim)\n",
        "        v = v.view(batch_size, seq_len, self.num_heads, self.head_dim)\n",
        "\n",
        "        # [batch_size, seq_len, num_heads, head_dim] -> [batch_size, num_heads, seq_len, head_dim]\n",
        "        q = q.transpose(1,2)\n",
        "        k = k.transpose(1,2)\n",
        "        v = v.transpose(1,2)\n",
        "\n",
        "        # Computing attention scores\n",
        "        scores = torch.matmul(q, k.transpose(-2, -1)) / math.sqrt(self.head_dim) # [batch_size, num_heads, seq_len, seq_len]\n",
        "\n",
        "        # Mask for causal attention\n",
        "        if mask is not None:\n",
        "            scores = scores.masked_fill(mask == 0, -1e9)\n",
        "\n",
        "        # Softmax to get attention weights\n",
        "        # [batch_size, num_heads, seq_len, seq_len]\n",
        "        attention_weights = F.softmax(scores, dim = -1)\n",
        "        # Softmax along dim = -1 to determine how much attention along each key dimension\n",
        "\n",
        "        # Applying dropout to attention weights\n",
        "        attention_weights = self.dropout(attention_weights)\n",
        "\n",
        "        # Applying attention weights to valyues\n",
        "        # [batch_size, num_heads, seq_len, head_dim]\n",
        "        context = torch.matmul(attention_weights, v)\n",
        "\n",
        "        # Concatenating heads\n",
        "        # [batch_size, num_heads, seq_len, head_dim] -> [batch_size, seq_len, num_heads, head_dim]\n",
        "        context = context.transpose(1, 2)\n",
        "        # [batch_size, num_heads, seq_len, head_dim] -> [batch_size, seq_len, d_model]\n",
        "        context = context.contiguous().view(batch_size, seq_len, self.d_model)\n",
        "\n",
        "        # Output projection\n",
        "        output = self.W_o(context)\n",
        "\n",
        "        return output\n"
      ],
      "metadata": {
        "id": "Xr6v5QDytthI"
      },
      "execution_count": 11,
      "outputs": []
    },
    {
      "cell_type": "markdown",
      "source": [
        "### Creating causal mask"
      ],
      "metadata": {
        "id": "St7uwCO6xwyH"
      }
    },
    {
      "cell_type": "code",
      "source": [
        "def create_causal_mask(seq_len):\n",
        "    # Lower tringular matrix so that query tokens dont have access to keys that come after them in the sequence\n",
        "    mask = torch.tril(torch.ones((seq_len, seq_len)))\n",
        "\n",
        "    return mask.unsqueeze(0).unsqueeze(0) # [1, 1, seq_len, seq_len]"
      ],
      "metadata": {
        "id": "hBCnPJjuxrWC"
      },
      "execution_count": 13,
      "outputs": []
    },
    {
      "cell_type": "code",
      "source": [
        "# benchmark_and_analyze()"
      ],
      "metadata": {
        "id": "9lq4FEQ5yts6"
      },
      "execution_count": 16,
      "outputs": []
    },
    {
      "cell_type": "markdown",
      "source": [
        "### Naive triton implementation"
      ],
      "metadata": {
        "id": "hL7qtNXFCHBQ"
      }
    },
    {
      "cell_type": "code",
      "source": [
        "@triton.jit\n",
        "def attention_kernel(\n",
        "    q_ptr, k_ptr, v_ptr, o_ptr,\n",
        "    batch_size, seq_len, num_heads, head_dim,\n",
        "    q_batch_stride, q_head_stride, q_seq_stride, q_head_dim_stride,\n",
        "    k_batch_stride, k_head_stride, k_seq_stride, k_head_dim_stride,\n",
        "    v_batch_stride, v_head_stride, v_seq_stride, v_head_dim_stride,\n",
        "    o_batch_stride, o_head_stride, o_seq_stride, o_head_dim_stride,\n",
        "    scale, # 1 / square_root(d_k)\n",
        "    BLOCK_SIZE: tl.constexpr\n",
        "    ):\n",
        "\n",
        "    batch_idx = tl.program_id(0)\n",
        "    head_idx = tl.program_id(1)\n",
        "    seq_idx =  tl.program_id(2)\n",
        "\n",
        "    # Computing pointer offsets\n",
        "    # Navigate to correct starting positions\n",
        "    q_batch_offset = batch_idx * q_batch_stride\n",
        "    q_head_offset = head_idx * q_head_stride\n",
        "    q_seq_offset = seq_idx * q_seq_stride\n",
        "\n",
        "    # No sequence offset for K and V since each query block will see all the key blocks\n",
        "    k_batch_offset = batch_idx * k_batch_stride\n",
        "    k_head_offset = head_idx * k_head_stride\n",
        "\n",
        "    v_batch_offset = batch_idx * v_batch_stride\n",
        "    v_head_offset = head_idx * v_head_stride\n",
        "\n",
        "    o_batch_offset = batch_idx * o_batch_stride\n",
        "    o_head_offset = head_idx * o_head_stride\n",
        "    o_seq_offset = seq_idx * o_seq_stride\n",
        "\n",
        "    # Loading query vector for this sequence position\n",
        "    q_ptrs = q_ptr + q_batch_offset + q_head_offset + q_seq_offset + tl.arange(0, BLOCK_SIZE) * q_head_dim_stride # This loads data even if it is in non contiguous locations in memory\n",
        "    q = tl.load(q_ptrs, mask = tl.arange(0, BLOCK_SIZE) < head_dim, other = 0.0)\n",
        "\n",
        "    # Initialise accumulator for weighted sum. One score for each key token\n",
        "    acc = tl.zeros([BLOCK_SIZE], dtype = tl.float32)\n",
        "\n",
        "    softmax_denominator = 0.0\n",
        "\n",
        "    for k_seq_idx in range(seq_len):\n",
        "        k_seq_offset = k_seq_idx * k_seq_stride\n",
        "        k_ptrs =  k_ptr + k_batch_offset + k_head_offset + k_seq_offset + tl.arange(0, BLOCK_SIZE) * k_head_dim_stride\n",
        "        k = tl.load(k_ptrs, mask = tl.arange(0, BLOCK_SIZE) < head_dim, other = 0.0)\n",
        "\n",
        "        score = tl.sum(q * k) * scale\n",
        "        attention_weight = tl.exp(score)\n",
        "\n",
        "        softmax_denominator += attention_weight\n",
        "\n",
        "        v_seq_offset = k_seq_idx * v_seq_stride\n",
        "        v_ptrs = v_ptr + v_batch_offset + v_head_offset + v_seq_offset + tl.arange(0, BLOCK_SIZE) * v_head_dim_stride\n",
        "\n",
        "        v = tl.load(v_ptrs, mask = tl.arange(0, BLOCK_SIZE) < head_dim, other = 0.0)\n",
        "\n",
        "        acc += attention_weight * v\n",
        "\n",
        "    acc /= softmax_denominator\n",
        "\n",
        "    output_ptrs = o_ptr + o_batch_offset + o_head_offset + o_seq_offset + tl.arange(0, BLOCK_SIZE) * o_head_dim_stride\n",
        "    tl.store(output_ptrs, acc, mask = tl.arange(0, BLOCK_SIZE) < head_dim)\n",
        "\n"
      ],
      "metadata": {
        "id": "f4feaH8uyvsy"
      },
      "execution_count": 28,
      "outputs": []
    },
    {
      "cell_type": "code",
      "source": [
        "class TritonAttentionNaive(nn.Module):\n",
        "    def __init__(self, d_model, num_heads):\n",
        "        super().__init__()\n",
        "        self.d_model = d_model\n",
        "        self.num_heads = num_heads\n",
        "        self.head_dim = d_model // num_heads\n",
        "\n",
        "        self.W_q = nn.Linear(d_model, d_model, bias = False)\n",
        "        self.W_k = nn.Linear(d_model, d_model, bias = False)\n",
        "        self.W_v = nn.Linear(d_model, d_model, bias = False)\n",
        "\n",
        "        self.W_o = nn.Linear(d_model, d_model, bias = False)\n",
        "\n",
        "    def forward(self, x):\n",
        "        batch_size, seq_len, _ = x.shape\n",
        "\n",
        "        q = self.W_q(x)\n",
        "        k = self.W_k(x)\n",
        "        v = self.W_v(x)\n",
        "\n",
        "        q = q.view(batch_size, seq_len, self.num_heads, self.head_dim).permute(0, 2, 1, 3)\n",
        "        k = k.view(batch_size, seq_len, self.num_heads, self.head_dim).permute(0, 2, 1, 3)\n",
        "        v = v.view(batch_size, seq_len, self.num_heads, self.head_dim).permute(0, 2, 1, 3)\n",
        "\n",
        "        o = torch.empty_like(q)\n",
        "\n",
        "        scale = 1.0 / math.sqrt(self.head_dim)\n",
        "\n",
        "        grid = (batch_size, self.num_heads, seq_len)\n",
        "\n",
        "        block_size = 1\n",
        "        while block_size < self.head_dim:\n",
        "            block_size *= 2\n",
        "\n",
        "        attention_kernel[grid](\n",
        "            q, k, v, o,\n",
        "            batch_size, seq_len, self.num_heads, self.head_dim,\n",
        "            q.stride(0), q.stride(1), q.stride(2), q.stride(3),\n",
        "            k.stride(0), k.stride(1), k.stride(2), k.stride(3),\n",
        "            v.stride(0), v.stride(1), v.stride(2), v.stride(3),\n",
        "            o.stride(0), o.stride(1), o.stride(2), o.stride(3),\n",
        "            scale,\n",
        "            BLOCK_SIZE = block_size\n",
        "        )\n",
        "\n",
        "        #  [batch_size, num_heads , seq_len, head_dim] -> [batch_size, seq_len, num_heads, head_dim] -> [batch_size, seq_len, d_model]\n",
        "        o = o.permute(0,2,1,3).contiguous().view(batch_size, seq_len, self.d_model)\n",
        "        o = self.W_o(o)\n",
        "\n",
        "        return o"
      ],
      "metadata": {
        "id": "4_FypGRhKEgW"
      },
      "execution_count": 34,
      "outputs": []
    },
    {
      "cell_type": "code",
      "source": [
        "DEVICE = torch.device('cuda')\n",
        "D_MODEL = 768\n",
        "NUM_HEADS = 12\n",
        "BATCH_SIZE = 1"
      ],
      "metadata": {
        "id": "ro5F5vOhMolr"
      },
      "execution_count": 35,
      "outputs": []
    },
    {
      "cell_type": "code",
      "source": [
        "@triton.testing.perf_report(\n",
        "    triton.testing.Benchmark(\n",
        "        x_names=['seq_len'],\n",
        "        x_vals=[2**i for i in range(8, 13)],  # 256 to 4096\n",
        "        x_log=True,\n",
        "        line_arg='provider',\n",
        "        line_vals=['torch', 'triton_naive'],\n",
        "        line_names=['PyTorch', 'Triton Naive'],\n",
        "        styles=[('blue', '-'), ('green', '-')],\n",
        "        ylabel='Latency (ms)',\n",
        "        plot_name='attention-performance',\n",
        "        args={'d_model': D_MODEL, 'num_heads': NUM_HEADS, 'batch_size': BATCH_SIZE},\n",
        "    )\n",
        ")\n",
        "def benchmark_attention(seq_len, provider, d_model, num_heads, batch_size):\n",
        "    x = torch.randn((batch_size, seq_len, d_model), device=DEVICE)\n",
        "\n",
        "    # Warmup\n",
        "    if provider == 'torch':\n",
        "        model = TorchAttention(d_model, num_heads).to(DEVICE)\n",
        "    elif provider == 'triton_naive':\n",
        "        model = TritonAttentionNaive(d_model, num_heads).to(DEVICE)\n",
        "\n",
        "    for _ in range(3):\n",
        "        _ = model(x)\n",
        "    torch.cuda.synchronize()\n",
        "\n",
        "    # Benchmark\n",
        "    quantiles = [0.5, 0.2, 0.8]\n",
        "    ms, min_ms, max_ms = triton.testing.do_bench(lambda: model(x), quantiles=quantiles)\n",
        "\n",
        "    return ms, max_ms, min_ms"
      ],
      "metadata": {
        "id": "GOp369SSMq4_"
      },
      "execution_count": 36,
      "outputs": []
    },
    {
      "cell_type": "code",
      "source": [
        "def compare_memory_usage(seq_lengths, d_model=768, num_heads=12, batch_size=1):\n",
        "    \"\"\"Compare memory usage between PyTorch and Triton implementations.\"\"\"\n",
        "    torch_model = TorchAttention(d_model, num_heads).to(DEVICE)\n",
        "    triton_model = TritonAttentionNaive(d_model, num_heads).to(DEVICE)\n",
        "\n",
        "    print(\"\\nMemory Usage Comparison:\")\n",
        "    print(\"-\" * 80)\n",
        "    print(f\"{'Seq Length':<12} {'PyTorch (MB)':<15} {'Triton Naive (MB)':<20}\")\n",
        "    print(\"-\" * 80)\n",
        "\n",
        "    for seq_len in seq_lengths:\n",
        "        x = torch.randn((batch_size, seq_len, d_model), device=DEVICE)\n",
        "\n",
        "        torch.cuda.reset_peak_memory_stats()\n",
        "        _ = torch_model(x)\n",
        "        torch.cuda.synchronize()\n",
        "        torch_memory = torch.cuda.max_memory_allocated() / (1024 * 1024)\n",
        "\n",
        "        torch.cuda.reset_peak_memory_stats()\n",
        "        _ = triton_model(x)\n",
        "        torch.cuda.synchronize()\n",
        "        triton_memory = torch.cuda.max_memory_allocated() / (1024 * 1024)\n",
        "\n",
        "        print(f\"{seq_len:<12} {torch_memory:<15.2f} {triton_memory:<20.2f}\")\n",
        "\n",
        "    print(\"\\nTheoretical Attention Matrix Memory:\")\n",
        "    print(\"-\" * 80)\n",
        "    print(f\"{'Seq Length':<12} {'Memory (MB)':<15}\")\n",
        "    print(\"-\" * 80)\n",
        "\n",
        "    for seq_len in seq_lengths:\n",
        "        # Size of attention matrix: batch_size * num_heads * seq_len * seq_len * 4 bytes\n",
        "        attn_matrix_size = batch_size * num_heads * seq_len * seq_len * 4 / (1024 * 1024)\n",
        "        print(f\"{seq_len:<12} {attn_matrix_size:<15.2f}\")"
      ],
      "metadata": {
        "id": "F2JvE9X6M1wR"
      },
      "execution_count": 37,
      "outputs": []
    },
    {
      "cell_type": "code",
      "source": [
        "benchmark_attention.run(save_path='./attention_benchmark', print_data=True)"
      ],
      "metadata": {
        "colab": {
          "base_uri": "https://localhost:8080/",
          "height": 579
        },
        "id": "clfes6yOM8Fj",
        "outputId": "052683bf-e287-4f3c-b3cf-a10df1397373"
      },
      "execution_count": 38,
      "outputs": [
        {
          "output_type": "stream",
          "name": "stdout",
          "text": [
            "attention-performance:\n",
            "   seq_len    PyTorch  Triton Naive\n",
            "0    256.0   0.267264      1.044480\n",
            "1    512.0   0.580608      3.863552\n",
            "2   1024.0   2.413568     14.860800\n",
            "3   2048.0   8.509953     58.952705\n",
            "4   4096.0  31.538176    233.879547\n"
          ]
        },
        {
          "output_type": "display_data",
          "data": {
            "text/plain": [
              "<Figure size 640x480 with 1 Axes>"
            ],
            "image/png": "[encoded data removed]"
          },
          "metadata": {}
        }
      ]
    },
    {
      "cell_type": "code",
      "source": [
        "compare_memory_usage([256, 512, 1024, 2048, 4096])"
      ],
      "metadata": {
        "colab": {
          "base_uri": "https://localhost:8080/"
        },
        "id": "gn76etz3M-XW",
        "outputId": "7a8b4355-78e0-44b2-9123-83d8635fa423"
      },
      "execution_count": 39,
      "outputs": [
        {
          "output_type": "stream",
          "name": "stdout",
          "text": [
            "\n",
            "Memory Usage Comparison:\n",
            "--------------------------------------------------------------------------------\n",
            "Seq Length   PyTorch (MB)    Triton Naive (MB)   \n",
            "--------------------------------------------------------------------------------\n",
            "256          66.50           67.25               \n",
            "512          102.25          96.25               \n",
            "1024         229.25          193.25              \n",
            "2048         718.25          550.25              \n",
            "4096         2632.25         1912.25             \n",
            "\n",
            "Theoretical Attention Matrix Memory:\n",
            "--------------------------------------------------------------------------------\n",
            "Seq Length   Memory (MB)    \n",
            "--------------------------------------------------------------------------------\n",
            "256          3.00           \n",
            "512          12.00          \n",
            "1024         48.00          \n",
            "2048         192.00         \n",
            "4096         768.00         \n"
          ]
        }
      ]
    },
    {
      "cell_type": "code",
      "source": [],
      "metadata": {
        "id": "2tVwQqoOQlIn"
      },
      "execution_count": null,
      "outputs": []
    }
  ]
}